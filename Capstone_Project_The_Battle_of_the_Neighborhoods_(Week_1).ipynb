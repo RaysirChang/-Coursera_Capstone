{
  "nbformat": 4,
  "nbformat_minor": 0,
  "metadata": {
    "colab": {
      "name": "Capstone_Project - The_Battle_of_the_Neighborhoods_(Week_1).ipynb",
      "provenance": [],
      "collapsed_sections": [],
      "authorship_tag": "ABX9TyNfWpBZvN7sPrIO0cagMUCV",
      "include_colab_link": true
    },
    "kernelspec": {
      "name": "python3",
      "display_name": "Python 3"
    }
  },
  "cells": [
    {
      "cell_type": "markdown",
      "metadata": {
        "id": "view-in-github",
        "colab_type": "text"
      },
      "source": [
        "<a href=\"https://colab.research.google.com/github/RaysirChang/-Coursera_Capstone/blob/master/Capstone_Project_The_Battle_of_the_Neighborhoods_(Week_1).ipynb\" target=\"_parent\"><img src=\"https://colab.research.google.com/assets/colab-badge.svg\" alt=\"Open In Colab\"/></a>"
      ]
    },
    {
      "cell_type": "markdown",
      "metadata": {
        "collapsed": true,
        "id": "wgGVqKOOpuz0",
        "colab_type": "text"
      },
      "source": [
        "# Capstone Project - The Battle of the Neighborhoods (Week 1)\n",
        "### Applied Data Science Capstone by IBM/Coursera"
      ]
    },
    {
      "cell_type": "markdown",
      "metadata": {
        "id": "HK7UkYudpuz4",
        "colab_type": "text"
      },
      "source": [
        "## Table of contents\n",
        "* [Introduction: Business Problem](#introduction)\n",
        "* [Data](#data) "
      ]
    },
    {
      "cell_type": "markdown",
      "metadata": {
        "id": "swPdyFWYpuz5",
        "colab_type": "text"
      },
      "source": [
        "\n",
        "\n",
        "## Introduction: Business Problem <a name=\"introduction\"></a>"
      ]
    },
    {
      "cell_type": "markdown",
      "metadata": {
        "id": "vGH0fEOJpuz7",
        "colab_type": "text"
      },
      "source": [
        "TAIPEI (Taiwan News) – According to statistics from 2017, Taiwan possesses the second highest ratio of convenience stores per population density of any country in the world. Taiwan's ratio of convenience stores is second only to South Korea, and barely ahead of Japan in third. There are 4 major convenience stores in Taiwan -- 7-11, Fami-mart, Hi-life, and OK-mart. \n",
        "\n",
        "In this project we will try to find an optimal location for the biggest convenience store in Taiwan-- 7-11. Specifically, this report will be targeted to stakeholders interested in opening a new 7-11 in Taipei, Taiwan. The other convenience stores will not be concerned due to the high density. Having a different convenience store in neighborhood is very nature.\n",
        "\n",
        "Since there are lots of 7-11 in Taipei we will try to detect **locations that are not already crowded with 7-11**. We would also prefer **locations as close to Taipei Main Station as possible**, assuming that first two conditions are met.\n",
        "\n",
        "We will use our data science powers to generate a few most promissing neighborhoods based on this criteria. Advantages of each area will then be clearly expressed so that best possible final location can be chosen by stakeholders."
      ]
    },
    {
      "cell_type": "markdown",
      "metadata": {
        "id": "W4QRnnVmpuz8",
        "colab_type": "text"
      },
      "source": [
        "## Data <a name=\"data\"></a>"
      ]
    },
    {
      "cell_type": "markdown",
      "metadata": {
        "id": "8s7enKJnpuz-",
        "colab_type": "text"
      },
      "source": [
        "Based on definition of our problem, factors that will influence our decission are:\n",
        "* number of existing 7-11 in the neighborhood\n",
        "* number of and distance to 7-11 in the neighborhood, if any\n",
        "* distance of neighborhood from Taipei Main Station\n",
        "\n",
        "We decided to use *regularly spaced grid of locations, centered around Taipei Main Station, to define our neighborhoods.\n",
        "\n",
        "Following data sources will be needed to extract/generate the required information:\n",
        "* centers of candidate areas will be obtained using **Google Maps API reverse geocoding**\n",
        "* number of 7-11 and their location in every neighborhood will be obtained using **Foursquare API**\n",
        "* coordinate of Taipei Main Station will be obtained using **Google Maps API geocoding** \n",
        "\n",
        "*reference to \"Opening an Italian restaurant in Berlin, Germany.\""
      ]
    }
  ]
}